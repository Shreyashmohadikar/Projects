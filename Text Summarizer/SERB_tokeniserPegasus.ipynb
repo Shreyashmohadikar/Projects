{
  "cells": [
    {
      "cell_type": "code",
      "execution_count": 1,
      "metadata": {
        "colab": {
          "base_uri": "https://localhost:8080/"
        },
        "id": "lSqTzw6ev-Vo",
        "outputId": "61d2c1d8-86b8-4c4c-adf3-fcf90d810e8b"
      },
      "outputs": [],
      "source": [
        "%pip install transformers"
      ]
    },
    {
      "cell_type": "code",
      "execution_count": null,
      "metadata": {
        "colab": {
          "base_uri": "https://localhost:8080/"
        },
        "id": "NgVcdCMGwDM0",
        "outputId": "e64622d5-9bc4-4552-f212-285c11a00a81"
      },
      "outputs": [
        {
          "name": "stdout",
          "output_type": "stream",
          "text": [
            "Looking in indexes: https://pypi.org/simple, https://us-python.pkg.dev/colab-wheels/public/simple/\n",
            "Requirement already satisfied: sentencepiece in /usr/local/lib/python3.7/dist-packages (0.1.97)\n"
          ]
        }
      ],
      "source": [
        "!pip3 install sentencepiece"
      ]
    },
    {
      "cell_type": "code",
      "execution_count": null,
      "metadata": {
        "id": "hhkMKj4-wHLF"
      },
      "outputs": [],
      "source": [
        "from transformers import PegasusForConditionalGeneration, PegasusTokenizer\n"
      ]
    },
    {
      "cell_type": "code",
      "execution_count": null,
      "metadata": {
        "colab": {
          "base_uri": "https://localhost:8080/"
        },
        "id": "S3RodFgI_gBw",
        "outputId": "bfb0b46f-ffad-4249-cac6-9fe7df389afb"
      },
      "outputs": [
        {
          "name": "stderr",
          "output_type": "stream",
          "text": [
            "/usr/local/lib/python3.7/dist-packages/IPython/core/interactiveshell.py:3326: FutureWarning: The error_bad_lines argument has been deprecated and will be removed in a future version.\n",
            "\n",
            "\n",
            "  exec(code_obj, self.user_global_ns, self.user_ns)\n"
          ]
        }
      ],
      "source": [
        "import pandas as pd\n",
        "data = pd.read_csv('train.csv', quoting = 3, error_bad_lines = False) "
      ]
    },
    {
      "cell_type": "code",
      "execution_count": null,
      "metadata": {
        "id": "2o3EdlbtwJvd"
      },
      "outputs": [],
      "source": [
        "tokenizer_model = PegasusTokenizer.from_pretrained(\"google/pegasus-large\")\n"
      ]
    },
    {
      "cell_type": "code",
      "execution_count": null,
      "metadata": {
        "id": "k4TW4WT_wZ_2"
      },
      "outputs": [],
      "source": [
        "loaded_model2 = PegasusForConditionalGeneration.from_pretrained(\"google/pegasus-large\")\n"
      ]
    },
    {
      "cell_type": "code",
      "execution_count": null,
      "metadata": {
        "colab": {
          "base_uri": "https://localhost:8080/",
          "height": 36
        },
        "id": "kBSQEMo8xSq6",
        "outputId": "25deba34-7f82-411c-9a00-4078d9c8c81c"
      },
      "outputs": [
        {
          "data": {
            "application/vnd.google.colaboratory.intrinsic+json": {
              "type": "string"
            },
            "text/plain": [
              "'The method identifies the differences in microcirculatory control of blood flow in different regions of the hand skin.'"
            ]
          },
          "execution_count": 89,
          "metadata": {},
          "output_type": "execute_result"
        }
      ],
      "source": [
        " text2 = \"The assessment of microcirculation spatial heterogeneity on the hand skin is the main objective of this work . Near infrared spectroscopy based 2D imaging is a non invasive technique for the assessment of tissue oxygenation . The haemoglobin oxygen saturation images were acquired by a dedicated camera during baseline ischaemia and reperfusion . Acquired images underwent a preliminary restoration process aimed at removing degradations occurring during signal capturing . Then wavelet transform based multiscale analysis was applied to identify edges by detecting local maxima and minima across successive scales . Segmentation of test areas during different conditions was obtained by thresholding based region growing approach . The method identifies the differences in microcirculatory control of blood flow in different regions of the hand skin . The obtained results demonstrate the potential use of NIRS images for the clinical evaluation of skin disease and microcirculatory dysfunction . \"\n",
        " tokens2 = tokenizer_model(text2, truncation=True, padding=\"longest\", return_tensors=\"pt\")\n",
        " tokens2\n",
        " summary2 = loaded_model2.generate(**tokens2)\n",
        " summary2\n",
        " tokenizer_model.decode(summary2[0])"
      ]
    }
  ],
  "metadata": {
    "colab": {
      "collapsed_sections": [],
      "provenance": []
    },
    "kernelspec": {
      "display_name": "PythonProjects",
      "language": "python",
      "name": "python3"
    },
    "language_info": {
      "codemirror_mode": {
        "name": "ipython",
        "version": 3
      },
      "file_extension": ".py",
      "mimetype": "text/x-python",
      "name": "python",
      "nbconvert_exporter": "python",
      "pygments_lexer": "ipython3",
      "version": "3.10.4 (tags/v3.10.4:9d38120, Mar 23 2022, 23:13:41) [MSC v.1929 64 bit (AMD64)]"
    },
    "vscode": {
      "interpreter": {
        "hash": "750116b2bea520a8c7bb2699751539a13d78412e7430ff0d193cebbf259f0258"
      }
    }
  },
  "nbformat": 4,
  "nbformat_minor": 0
}
